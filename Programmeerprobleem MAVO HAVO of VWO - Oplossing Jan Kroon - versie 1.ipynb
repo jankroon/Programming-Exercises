{
 "cells": [
  {
   "cell_type": "markdown",
   "metadata": {},
   "source": [
    "# Code Challenge \"MAVO, HAVO of VWO\""
   ]
  },
  {
   "cell_type": "markdown",
   "metadata": {},
   "source": [
    "## Gegevens Programmeur en Status Oplossing"
   ]
  },
  {
   "cell_type": "markdown",
   "metadata": {},
   "source": [
    "Naam: Jan Kroon, Hogeschool Rotterdam\n",
    "\n",
    "Datum: 9 januari 2020\n",
    "\n",
    "Status: \"Werk In Uitvoering\""
   ]
  },
  {
   "cell_type": "markdown",
   "metadata": {},
   "source": [
    "## Casus"
   ]
  },
  {
   "cell_type": "markdown",
   "metadata": {},
   "source": [
    "Het ActiefCollege wil graag een geautomatiseerd systeem dat bepaalt of een brugklas leerling over mag naar het tweede jaar van MAVO, HAVO of VWO. Zij hanteert daarbij de volgende regels:\n",
    "\n",
    "1. Kernvakken: biologie, Duits, Engels, natuur- en scheikunde, Nederlands, rekenen, wiskunde en economie\n",
    "\n",
    "2. Niet-kernvakken: de overige vakken. Gymnastiek wordt bij de beslissing helemaal niet meegenomen.\n",
    "\n",
    "3. Over naar VWO: alle vakken 7 of hoger\n",
    "\n",
    "4. ...\n"
   ]
  },
  {
   "cell_type": "markdown",
   "metadata": {},
   "source": [
    "## Test Data"
   ]
  },
  {
   "cell_type": "code",
   "execution_count": 21,
   "metadata": {
    "collapsed": false
   },
   "outputs": [
    {
     "name": "stdout",
     "output_type": "stream",
     "text": [
      "{'EN': 9, 'DU': 8, 'NaSk': 8, 'WIS': 7, 'NE': 7, 'M&M': 8, 'ACW': 6, 'BV': 7, 'BI': 7, 'LO': 7, 'REK': 7, 'ECO': 7, 'ML': 8}\n",
      "13\n"
     ]
    }
   ],
   "source": [
    "cijferlijst1 = {\"ACW\": 6, \"BI\": 7, \"BV\": 7, \"DU\":8, \"EN\": 9, \"LO\": 7, \"ML\": 8, \"M&M\": 8, \"NaSk\": 8, \"NE\": 7, \"REK\": 7, \"WIS\": 7, \"ECO\": 7}\n",
    "print(cijferlijst1)\n",
    "print(len(cijferlijst1))\n",
    "\n",
    "cijferlijst2 = {\"ACW\": 6, \"BI\": 5, \"BV\": 7, \"DU\":5, \"EN\": 9, \"LO\": 7, \"ML\": 8, \"M&M\": 8, \"NaSk\": 8, \"NE\": 9, \"REK\": 7, \"WIS\": 7, \"ECO\": 4}\n",
    "cijferlijst3 = {\"ACW\": 6, \"BI\": 7, \"BV\": 7, \"DU\":8, \"EN\": 9, \"LO\": 7, \"ML\": 8, \"M&M\": 8, \"NaSk\": 8, \"NE\": 7, \"REK\": 3, \"WIS\": 7, \"ECO\": 7}\n",
    "cijferlijst4 = {\"ACW\": 6, \"BI\": 5, \"BV\": 6, \"DU\":5, \"EN\": 6, \"LO\": 2, \"ML\": 5, \"M&M\": 6, \"NaSk\": 5, \"NE\": 6, \"REK\": 5, \"WIS\": 6, \"ECO\": 5}\n",
    "cijferlijst5 = {\"ACW\": 1, \"BI\": 1, \"BV\": 1, \"DU\":1, \"EN\": 1, \"LO\": 1, \"ML\": 1, \"M&M\": 1, \"NaSk\": 1, \"NE\": 1, \"REK\": 1, \"WIS\": 1, \"ECO\": 1}"
   ]
  },
  {
   "cell_type": "markdown",
   "metadata": {},
   "source": [
    "## Oplossing"
   ]
  },
  {
   "cell_type": "code",
   "execution_count": 10,
   "metadata": {
    "collapsed": false
   },
   "outputs": [
    {
     "name": "stdout",
     "output_type": "stream",
     "text": [
      "Waarschuwing: cijferlijst is leeg.\n",
      "MAVO, HAVO, VWO of GESPREK.\n"
     ]
    }
   ],
   "source": [
    "# Iteratie 1: Controleer of cijferlijst niet leeg is.\n",
    "# Expliciete aanname 1: Actuele parameter heeft type \"Dictionary\"\n",
    "\n",
    "def main(cijferlijst):\n",
    "    decision = \"\"\n",
    "    if len(cijferlijst) > 0:\n",
    "        decision = \"MAVO, HAVO, VWO of GESPREK.\"\n",
    "    else:\n",
    "        decision = \"Waarschuwing: cijferlijst is leeg.\"\n",
    "    return(decision)\n",
    "\n",
    "print(main({}))\n",
    "print(main(cijferlijst1))  "
   ]
  },
  {
   "cell_type": "code",
   "execution_count": 7,
   "metadata": {
    "collapsed": false
   },
   "outputs": [
    {
     "data": {
      "text/plain": [
       "dict_keys(['EN', 'DU', 'NaSk', 'WIS', 'NE', 'M&M', 'ACW', 'BV', 'BI', 'LO', 'REK', 'ECO', 'ML'])"
      ]
     },
     "execution_count": 7,
     "metadata": {},
     "output_type": "execute_result"
    }
   ],
   "source": [
    "cijferlijst1.keys()"
   ]
  },
  {
   "cell_type": "code",
   "execution_count": 22,
   "metadata": {
    "collapsed": false
   },
   "outputs": [
    {
     "name": "stdout",
     "output_type": "stream",
     "text": [
      "MAVO, HAVO of VWO.\n",
      "MAVO, HAVO of VWO.\n",
      "MAVO, HAVO of VWO.\n",
      "MAVO, HAVO of VWO.\n",
      "GESPREK\n"
     ]
    }
   ],
   "source": [
    "# Iteratie 2: Als cijferlijst niet leeg, bereken dan gemiddelde cijfer van kernvakken én overige_relevante_vakken.\n",
    "# Expliciete aanname 1: Actuele parameter heeft type \"Dictionary\"\n",
    "# Bekende tekortkoming 1: Werking software gevoelig voor verandering status vakken.\n",
    "# (Bijvoorbeeld: Meer vakken, na \"LO\", niet relevant verklaren.)\n",
    "\n",
    "def main(cijferlijst):\n",
    "    kernvakken = [\"BI\", \"DU\", \"EN\", \"NaSk\", \"NE\", \"REK\", \"WIS\", \"ECO\"]\n",
    "    overige_relevante_vakken = [] # Niet expliciet gegeven in probleemstelling\n",
    "    niet_relevante_vakken = [\"LO\"] # Gym, Gymnastiek, Lichamelijke Opvoeding\n",
    "    decision = \"\"\n",
    "    \n",
    "    if len(cijferlijst) > 0:\n",
    "        som = 0\n",
    "        for k in cijferlijst.keys():\n",
    "            if (k != \"LO\"):  # Nog beter zou zijn (k in niet_relevante_vakken)\n",
    "                som += cijferlijst[k]\n",
    "        \n",
    "        if (\"LO\" in cijferlijst.keys()):\n",
    "            gemiddelde = som / (len(cijferlijst)-1)\n",
    "        else:\n",
    "            gemiddelde = som / len(cijferlijst)\n",
    "        \n",
    "        if (gemiddelde < 5.5):\n",
    "            decision = \"GESPREK\"\n",
    "        else:\n",
    "            decision = \"MAVO, HAVO of VWO.\"\n",
    "    else:\n",
    "        decision = \"Waarschuwing: cijferlijst is leeg.\"\n",
    "    return(decision)\n",
    "\n",
    "print(main(cijferlijst1))\n",
    "print(main(cijferlijst2)) \n",
    "print(main(cijferlijst3)) \n",
    "print(main(cijferlijst4))\n",
    "print(main(cijferlijst5))"
   ]
  },
  {
   "cell_type": "code",
   "execution_count": 25,
   "metadata": {
    "collapsed": false
   },
   "outputs": [
    {
     "name": "stdout",
     "output_type": "stream",
     "text": [
      "MAVO of HAVO.\n",
      "MAVO of HAVO.\n",
      "MAVO of HAVO.\n",
      "MAVO of HAVO.\n",
      "GESPREK\n"
     ]
    }
   ],
   "source": [
    "# Iteratie 3: Onderscheid advies VWO van MAVO, HAVO\n",
    "# Expliciete aanname 1: Actuele parameter heeft type \"Dictionary\"\n",
    "# Bekende tekortkoming 1: Werking software gevoelig voor verandering status vakken.\n",
    "# (Bijvoorbeeld: Meer vakken, na \"LO\", niet relevant verklaren.)\n",
    "\n",
    "def main(cijferlijst):\n",
    "    kernvakken = [\"BI\", \"DU\", \"EN\", \"NaSk\", \"NE\", \"REK\", \"WIS\", \"ECO\"]\n",
    "    overige_relevante_vakken = [] # Niet expliciet gegeven in probleemstelling\n",
    "    niet_relevante_vakken = [\"LO\"] # Gym, Gymnastiek, Lichamelijke Opvoeding\n",
    "    decision = \"\"\n",
    "    \n",
    "    if len(cijferlijst) > 0:\n",
    "        som = 0\n",
    "        for k in cijferlijst.keys():\n",
    "            if (k != \"LO\"):  # Nog beter zou zijn (k in niet_relevante_vakken)\n",
    "                som += cijferlijst[k]\n",
    "        \n",
    "        if (\"LO\" in cijferlijst.keys()):\n",
    "            gemiddelde = som / (len(cijferlijst)-1)\n",
    "        else:\n",
    "            gemiddelde = som / len(cijferlijst)\n",
    "        \n",
    "        if (gemiddelde < 5.5):\n",
    "            decision = \"GESPREK\"\n",
    "        else:\n",
    "            cijfer_lager_7 = False\n",
    "            for k in cijferlijst.keys():\n",
    "                if k != \"LO\" and cijferlijst[k] < 7:\n",
    "                    cijfer_lager_7 = True\n",
    "            if (cijfer_lager_7):        \n",
    "                decision = \"MAVO of HAVO.\"\n",
    "            else:\n",
    "                decision = \"VWO.\"\n",
    "    else:\n",
    "        decision = \"Waarschuwing: cijferlijst is leeg.\"\n",
    "    return(decision)\n",
    "\n",
    "print(main(cijferlijst1))\n",
    "print(main(cijferlijst2)) \n",
    "print(main(cijferlijst3)) \n",
    "print(main(cijferlijst4))\n",
    "print(main(cijferlijst5))"
   ]
  },
  {
   "cell_type": "code",
   "execution_count": null,
   "metadata": {
    "collapsed": true
   },
   "outputs": [],
   "source": []
  }
 ],
 "metadata": {
  "kernelspec": {
   "display_name": "Python 3",
   "language": "python",
   "name": "python3"
  },
  "language_info": {
   "codemirror_mode": {
    "name": "ipython",
    "version": 3
   },
   "file_extension": ".py",
   "mimetype": "text/x-python",
   "name": "python",
   "nbconvert_exporter": "python",
   "pygments_lexer": "ipython3",
   "version": "3.5.6"
  }
 },
 "nbformat": 4,
 "nbformat_minor": 0
}
