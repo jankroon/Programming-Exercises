{
 "cells": [
  {
   "cell_type": "markdown",
   "metadata": {},
   "source": [
    "# Code Challenge 007 (*****) \"Reguliere Expressies matchen\""
   ]
  },
  {
   "cell_type": "markdown",
   "metadata": {},
   "source": [
    "## Gegevens programmeur en Status oplossing"
   ]
  },
  {
   "cell_type": "markdown",
   "metadata": {},
   "source": [
    "Programmeur(s):\n",
    "\n",
    "Periode: <datum> - <datum>\n",
    "\n",
    "Status:"
   ]
  },
  {
   "cell_type": "markdown",
   "metadata": {},
   "source": [
    "## Casus"
   ]
  },
  {
   "cell_type": "markdown",
   "metadata": {},
   "source": [
    "Schrijf een functie die bepaalde patronen kan vinden in een tekst. De gebruiker beschrijft het patroon met de volgende symbolen:\n",
    "\n",
    "Symbool    Betekenis\n",
    "c          Matcht met precies het letterteken c\n",
    ". (punt)   Matcht met elk willekeurig letterteken\n",
    "^ (dakje)  Matcht met het begin van de tekst\n",
    "$ (dollar) Matcht met het eind van de tekst\n",
    "* (ster)   Matcht met nul of meer herhalingen van het vorige letterteken\n",
    "\n",
    "De functie match() geeft 'True' terug, als het patroon te vinden is in de tekst. De functie match() geeft 'False' terug als het patroon niet voorkomt in de tekst.\n",
    "\n",
    "Paar voorbeelden:\n",
    "match(\"a\", \"abc\") = True\n",
    "match(\"d\", \"abc\") = False\n",
    "match(\"d.m\", \"Rotterdam\") = True\n",
    "match(\"ot*er\", \"Rotterdam\" = True\n",
    "match(\"^m\", \"Rotterdam\") = False\n",
    "\n",
    "Bron: Brian Kernighan \"A Regular Expression Matcher\", pages 3-9 Beautiful Code, edited by Andy Oram and Greg Wilson, O'Reilly Media, 2007'"
   ]
  },
  {
   "cell_type": "markdown",
   "metadata": {},
   "source": [
    "## Testgevallen"
   ]
  },
  {
   "cell_type": "code",
   "execution_count": null,
   "metadata": {
    "collapsed": true
   },
   "outputs": [],
   "source": []
  },
  {
   "cell_type": "markdown",
   "metadata": {},
   "source": [
    "## Oplossing"
   ]
  },
  {
   "cell_type": "code",
   "execution_count": null,
   "metadata": {
    "collapsed": true
   },
   "outputs": [],
   "source": []
  }
 ],
 "metadata": {
  "kernelspec": {
   "display_name": "Python 3",
   "language": "python",
   "name": "python3"
  },
  "language_info": {
   "codemirror_mode": {
    "name": "ipython",
    "version": 3
   },
   "file_extension": ".py",
   "mimetype": "text/x-python",
   "name": "python",
   "nbconvert_exporter": "python",
   "pygments_lexer": "ipython3",
   "version": "3.5.6"
  }
 },
 "nbformat": 4,
 "nbformat_minor": 0
}
